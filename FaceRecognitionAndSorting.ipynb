{
 "cells": [
  {
   "cell_type": "markdown",
   "id": "48a89978",
   "metadata": {
    "slideshow": {
     "slide_type": "slide"
    }
   },
   "source": [
    "# Face Recognition and Sorting"
   ]
  },
  {
   "cell_type": "code",
   "execution_count": null,
   "id": "0600441b",
   "metadata": {
    "slideshow": {
     "slide_type": "subslide"
    }
   },
   "outputs": [],
   "source": [
    "import face_recognition as fr\n",
    "import pathlib"
   ]
  },
  {
   "cell_type": "code",
   "execution_count": null,
   "id": "018b536f",
   "metadata": {
    "slideshow": {
     "slide_type": "subslide"
    }
   },
   "outputs": [],
   "source": [
    "file = pathlib.Path()\n",
    "img = file/'image/INC_2392.JPG'"
   ]
  },
  {
   "cell_type": "code",
   "execution_count": null,
   "id": "e8e8d5d5",
   "metadata": {
    "slideshow": {
     "slide_type": "subslide"
    }
   },
   "outputs": [],
   "source": [
    "img.is_file()"
   ]
  },
  {
   "cell_type": "code",
   "execution_count": null,
   "id": "f975996d",
   "metadata": {
    "slideshow": {
     "slide_type": "fragment"
    }
   },
   "outputs": [],
   "source": [
    "image = face_recognition.load_image_file(img)"
   ]
  },
  {
   "cell_type": "code",
   "execution_count": null,
   "id": "0e017d5a",
   "metadata": {
    "slideshow": {
     "slide_type": "subslide"
    }
   },
   "outputs": [],
   "source": [
    "face_locations = face_recognition.face_locations(image, 1)\n",
    "\n",
    "#face_locations = face_recognition.face_locations(image,model='cnn')\n"
   ]
  },
  {
   "cell_type": "code",
   "execution_count": null,
   "id": "17313246",
   "metadata": {
    "slideshow": {
     "slide_type": "fragment"
    }
   },
   "outputs": [],
   "source": [
    "len(face_locations)"
   ]
  },
  {
   "cell_type": "code",
   "execution_count": null,
   "id": "62410b4b",
   "metadata": {
    "slideshow": {
     "slide_type": "subslide"
    }
   },
   "outputs": [],
   "source": [
    "import cv2"
   ]
  },
  {
   "cell_type": "code",
   "execution_count": null,
   "id": "adb45050",
   "metadata": {
    "slideshow": {
     "slide_type": "fragment"
    }
   },
   "outputs": [],
   "source": [
    "for (t, r, b, l) in face_locations:\n",
    "    cv2.rectangle(image, (l, t), (r, b), (255, 0, 0), 3)"
   ]
  },
  {
   "cell_type": "code",
   "execution_count": null,
   "id": "c8cd8a62",
   "metadata": {
    "slideshow": {
     "slide_type": "subslide"
    }
   },
   "outputs": [],
   "source": [
    "cv2.imshow(image)"
   ]
  }
 ],
 "metadata": {
  "kernelspec": {
   "display_name": "Python 3 (ipykernel)",
   "language": "python",
   "name": "python3"
  },
  "language_info": {
   "codemirror_mode": {
    "name": "ipython",
    "version": 3
   },
   "file_extension": ".py",
   "mimetype": "text/x-python",
   "name": "python",
   "nbconvert_exporter": "python",
   "pygments_lexer": "ipython3",
   "version": "3.10.2"
  },
  "rise": {
   "autolaunch": true,
   "enable_chalkboard": true,
   "footer": "<h3>Face Recognition using python</h3>",
   "header": "<h1>Skill Disk</h1>",
   "scroll": true,
   "theme": "beige"
  }
 },
 "nbformat": 4,
 "nbformat_minor": 5
}
